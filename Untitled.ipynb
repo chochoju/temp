{
 "cells": [
  {
   "cell_type": "code",
   "execution_count": 1,
   "id": "f4a54bc7",
   "metadata": {},
   "outputs": [],
   "source": [
    "def avg(x):\n",
    "    sum = 0\n",
    "    for data in x:\n",
    "        sum+= data\n",
    "        \n",
    "    return sum/len(x)"
   ]
  },
  {
   "cell_type": "code",
   "execution_count": 8,
   "id": "6b7fb785",
   "metadata": {},
   "outputs": [],
   "source": [
    "x = [10, 20, 30]\n"
   ]
  },
  {
   "cell_type": "code",
   "execution_count": 11,
   "id": "fa96e87a",
   "metadata": {},
   "outputs": [
    {
     "name": "stdout",
     "output_type": "stream",
     "text": [
      "CPU times: user 159 µs, sys: 19 µs, total: 178 µs\n",
      "Wall time: 184 µs\n"
     ]
    },
    {
     "data": {
      "text/plain": [
       "20.0"
      ]
     },
     "execution_count": 11,
     "metadata": {},
     "output_type": "execute_result"
    }
   ],
   "source": [
    "%%time\n",
    "np.mean(x)"
   ]
  },
  {
   "cell_type": "code",
   "execution_count": 13,
   "id": "f1481435",
   "metadata": {},
   "outputs": [
    {
     "name": "stdout",
     "output_type": "stream",
     "text": [
      "20.0\n",
      "CPU times: user 613 µs, sys: 229 µs, total: 842 µs\n",
      "Wall time: 695 µs\n"
     ]
    }
   ],
   "source": [
    "%%time\n",
    "print(avg(x))"
   ]
  },
  {
   "cell_type": "code",
   "execution_count": null,
   "id": "08247da0",
   "metadata": {},
   "outputs": [],
   "source": []
  },
  {
   "cell_type": "code",
   "execution_count": null,
   "id": "d68203a9",
   "metadata": {},
   "outputs": [],
   "source": []
  }
 ],
 "metadata": {
  "kernelspec": {
   "display_name": "Python 3 (ipykernel)",
   "language": "python",
   "name": "python3"
  },
  "language_info": {
   "codemirror_mode": {
    "name": "ipython",
    "version": 3
   },
   "file_extension": ".py",
   "mimetype": "text/x-python",
   "name": "python",
   "nbconvert_exporter": "python",
   "pygments_lexer": "ipython3",
   "version": "3.8.12"
  }
 },
 "nbformat": 4,
 "nbformat_minor": 5
}
