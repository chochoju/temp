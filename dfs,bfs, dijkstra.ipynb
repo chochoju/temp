{
 "cells": [
  {
   "cell_type": "markdown",
   "id": "db9c489e",
   "metadata": {},
   "source": [
    "#### Dictionary 문법\n",
    "---\n",
    "#### Dictionary는 {key : value} 형태로 이루어져있음\n",
    "- 인접리스트 구현 방식: {node :list}\n",
    "    - key: 현재의 node\n",
    "    - value: list [] 로 구현\n",
    "        - key와 인접한 모든 node들을 value (list)에 추가\n",
    "---"
   ]
  },
  {
   "cell_type": "code",
   "execution_count": 3,
   "id": "2bbb64fa",
   "metadata": {},
   "outputs": [
    {
     "data": {
      "text/plain": [
       "{'name': 'James', 'height': 180, 'occupation': 'doctor'}"
      ]
     },
     "execution_count": 3,
     "metadata": {},
     "output_type": "execute_result"
    }
   ],
   "source": [
    "personal_info = {\n",
    "    \"name\": \"James\",\n",
    "    \"height\": 180,\n",
    "    \"occupation\": \"doctor\"\n",
    "}\n",
    "\n",
    "personal_info "
   ]
  },
  {
   "cell_type": "markdown",
   "id": "72c16e0d",
   "metadata": {},
   "source": [
    "---\n",
    "#### Dictionary key 접근 방식\n",
    "- 1. for elem in dictionary_name.keys():\n",
    "---"
   ]
  },
  {
   "cell_type": "code",
   "execution_count": 4,
   "id": "066d51e9",
   "metadata": {},
   "outputs": [
    {
     "name": "stdout",
     "output_type": "stream",
     "text": [
      "key:  name\n",
      "key:  height\n",
      "key:  occupation\n"
     ]
    }
   ],
   "source": [
    "for elem in personal_info.keys():\n",
    "    print(\"key: \",elem)"
   ]
  },
  {
   "cell_type": "markdown",
   "id": "828bc062",
   "metadata": {},
   "source": [
    "---\n",
    "#### Dictionary value 접근 방식\n",
    "- 1. for elem in dictionary_name.values():\n",
    "\n",
    "\n",
    "- 2. dictionary_name[key_value]: dictionary에서 key_value에 해당하는 value값 접근"
   ]
  },
  {
   "cell_type": "code",
   "execution_count": 5,
   "id": "ed0e9bcb",
   "metadata": {},
   "outputs": [
    {
     "name": "stdout",
     "output_type": "stream",
     "text": [
      "values:  James\n",
      "values:  180\n",
      "values:  doctor\n"
     ]
    }
   ],
   "source": [
    "# 1.\n",
    "for elem in personal_info.values():\n",
    "    print(\"values: \", elem)"
   ]
  },
  {
   "cell_type": "code",
   "execution_count": 8,
   "id": "058216a4",
   "metadata": {},
   "outputs": [
    {
     "name": "stdout",
     "output_type": "stream",
     "text": [
      "James\n",
      "180\n",
      "doctor\n"
     ]
    }
   ],
   "source": [
    "# 2.\n",
    "print(personal_info[\"name\"])\n",
    "print(personal_info[\"height\"])\n",
    "print(personal_info[\"occupation\"])"
   ]
  },
  {
   "cell_type": "markdown",
   "id": "28fe4f94",
   "metadata": {},
   "source": [
    "---\n",
    "#### Dictionary key, value동시 접근\n",
    "- 1.  for elem in dictionary_name.items():\n",
    "    - elem = (key, value)\n",
    "    - pair 형태의 데이터형태\n",
    "\n",
    "- 2. for a, b  in dictionary_name.items():\n",
    "    - a = key\n",
    "    - b = value\n",
    "    - python 문법\n",
    "        - m,n = (p, q)\n",
    "        - m = p\n",
    "        - n = q"
   ]
  },
  {
   "cell_type": "code",
   "execution_count": 9,
   "id": "0b79b501",
   "metadata": {},
   "outputs": [
    {
     "name": "stdout",
     "output_type": "stream",
     "text": [
      "('name', 'James')\n",
      "('height', 180)\n",
      "('occupation', 'doctor')\n"
     ]
    }
   ],
   "source": [
    "for elem in personal_info.items():\n",
    "    print(elem)"
   ]
  },
  {
   "cell_type": "code",
   "execution_count": 11,
   "id": "9aa78906",
   "metadata": {},
   "outputs": [
    {
     "name": "stdout",
     "output_type": "stream",
     "text": [
      "key = name, value = James\n",
      "key = height, value = 180\n",
      "key = occupation, value = doctor\n"
     ]
    }
   ],
   "source": [
    "for a, b in personal_info.items():\n",
    "    # a = key, b = value\n",
    "    print(\"key = {}, value = {}\". format(a, b))"
   ]
  },
  {
   "cell_type": "markdown",
   "id": "451648ea",
   "metadata": {},
   "source": [
    "---\n",
    "### 1. DFS\n",
    "\n",
    "### 2. BFS\n",
    "\n",
    "### 3. Dijkstra\n",
    "---"
   ]
  },
  {
   "cell_type": "markdown",
   "id": "5ec0c06e",
   "metadata": {},
   "source": [
    "- visualize는 제 깃허브 보시면 도움이 될것 같아요!\n",
    "- https://github.com/ilksh/Algorithm-template/blob/main/Python/BFS/Search%20order.md\n",
    "---"
   ]
  },
  {
   "cell_type": "markdown",
   "id": "40b48ab6",
   "metadata": {},
   "source": [
    "### DFS, BFS (공통)\n",
    "---\n",
    "### 1. 인접여부 확인\n",
    "- 인접리스트 (adjacency list)\n",
    "- dictionary 구현\n",
    "    - key: node, value = list\n",
    "    - adj = {node1: [node1과 연결되어있는 다른 node]}\n",
    "    - key = immutable, value = mutable\n",
    "    \n",
    "---\n",
    "#### A. dictionary 초기화\n",
    "- dictionary에 모든 node들을 key값으로 주고 empty list를 할당\n",
    "    - 초기상태에는 연결된 node들이 없음\n",
    "    - 연결되는 node를 value에 넣기 위해서는 데이터를 저장한 공간 list가 필요\n",
    "---\n",
    "#### B. 인접정보 update\n",
    "- node1: [node1과 연결된 node들의 정보]\n",
    "- adj[node1].append(data)"
   ]
  },
  {
   "cell_type": "code",
   "execution_count": 29,
   "id": "99a590eb",
   "metadata": {},
   "outputs": [
    {
     "data": {
      "text/plain": [
       "{1: [], 2: [], 3: [], 4: [], 5: [], 6: [], 7: [], 8: [], 9: [], 10: []}"
      ]
     },
     "execution_count": 29,
     "metadata": {},
     "output_type": "execute_result"
    }
   ],
   "source": [
    "# 1.A\n",
    "adj = {}\n",
    "for i in range(10):\n",
    "    adj[i+1] = []\n",
    "\n",
    "adj"
   ]
  },
  {
   "cell_type": "code",
   "execution_count": 30,
   "id": "86e0b753",
   "metadata": {},
   "outputs": [
    {
     "data": {
      "text/plain": [
       "{1: [2, 6, 7, 9],\n",
       " 2: [3, 4],\n",
       " 3: [],\n",
       " 4: [],\n",
       " 5: [],\n",
       " 6: [],\n",
       " 7: [],\n",
       " 8: [],\n",
       " 9: [],\n",
       " 10: []}"
      ]
     },
     "execution_count": 30,
     "metadata": {},
     "output_type": "execute_result"
    }
   ],
   "source": [
    "# 1.B\n",
    "adj[1].append(2)\n",
    "adj[1].append(6)\n",
    "adj[1].append(7)\n",
    "adj[1].append(9)\n",
    "\n",
    "adj[2].append(3)\n",
    "adj[2].append(4)\n",
    "\n",
    "adj"
   ]
  },
  {
   "cell_type": "markdown",
   "id": "ed5a815b",
   "metadata": {},
   "source": [
    "---\n",
    "#### 2. visited array\n",
    "- 방문했던 정점 두번 방문 x\n",
    "- bool type array (True, False)\n",
    "---\n",
    "- A. 초기화 \n",
    "    - 초기값 = False\n",
    "    - False = 방문한 적 없음\n",
    "---\n",
    "- B. 정보 업데이트\n",
    "    - 방문하면 True로 변환\n",
    "    - visited[node] = True"
   ]
  },
  {
   "cell_type": "code",
   "execution_count": 15,
   "id": "8b688c65",
   "metadata": {},
   "outputs": [
    {
     "data": {
      "text/plain": [
       "[False, False, False, False, False, False, False, False, False, False, False]"
      ]
     },
     "execution_count": 15,
     "metadata": {},
     "output_type": "execute_result"
    }
   ],
   "source": [
    "visited = [False for _ in range(11)]\n",
    "\n",
    "visited"
   ]
  },
  {
   "cell_type": "markdown",
   "id": "72730534",
   "metadata": {},
   "source": [
    "---\n",
    "#### 3. Search"
   ]
  },
  {
   "cell_type": "markdown",
   "id": "7f7489d4",
   "metadata": {},
   "source": [
    "---\n",
    "- DFS (Depth First Search)\n",
    "    - 하나의 node를 시작으로 인접하고 다른 node들을 최대한 깊게 탐색\n",
    "    - 인접한 node 방문후 그 노드와 인접하고 방문하지 않은 노드를 재귀함수를 이용하여 구현\n",
    "        - Step 1) node 방문\n",
    "        - Step 2) 현재 방문한 node와 인접하고 방문하지 않은 node를 방문\n",
    "        - Step 3) 인접한 node를 기준으로 다시 탐색\n",
    "---"
   ]
  },
  {
   "cell_type": "code",
   "execution_count": null,
   "id": "c822dddc",
   "metadata": {},
   "outputs": [],
   "source": [
    "# 주석 있는 version\n",
    "  \n",
    "def dfs(cur_node):\n",
    "    global adj, visited\n",
    "    \n",
    "    # 2.B (방문정보 update)\n",
    "    visited[cur_node] = True     \n",
    "    \n",
    "    # Step 1 (현재 node 방문)\n",
    "    ans.append(cur_node)        \n",
    "    \n",
    "    # Step 2 (현재 node와 인접한 node 탐색)\n",
    "    for elem in adj[cur_node]:\n",
    "        # 방문한적이 없으면 \n",
    "        if not visited[elem]:\n",
    "            # Step 3 (새로운 node를 기준으로 탐색)\n",
    "            dfs(elem)"
   ]
  },
  {
   "cell_type": "code",
   "execution_count": null,
   "id": "396a31ae",
   "metadata": {},
   "outputs": [],
   "source": [
    "def dfs(cur_node):\n",
    "    global adj, visited\n",
    "    \n",
    "    visited[cur_node] = True     \n",
    "    ans.append(cur_node)        \n",
    "    \n",
    "    for elem in adj[cur_node]:\n",
    "        if not visited[elem]: \n",
    "            dfs(elem)            \n",
    "            "
   ]
  },
  {
   "cell_type": "markdown",
   "id": "181c09f3",
   "metadata": {},
   "source": [
    "---\n",
    "- BFS (Breath First Search)\n",
    "    - 하나의 node를 시작으로 그 노드와 연결된 모든 node들을 탐색\n",
    "    - Queue를 사용하여 구현\n",
    "        - Step 1) 인접하고 아직 방문하지 않은 모든 노드들을 Queue에 삽입\n",
    "        - Step 2) Queue의 FIFO의 성질을 사용하여 삽입된 순서대로  node 방문\n",
    "        - Step 3) step 2를 Queue에 data가 없을때 까지 반복 = 인접한 모든 node 방문\n",
    "---"
   ]
  },
  {
   "cell_type": "code",
   "execution_count": null,
   "id": "fe4f20d3",
   "metadata": {},
   "outputs": [],
   "source": [
    "# 주석 있는 version\n",
    "def bfs(num):\n",
    "    global adj, q, ans, visited\n",
    "    \n",
    "    q.append(num)\n",
    "    \n",
    "    # Step 3)\n",
    "    while len(q) > 0:\n",
    "        # Step 2 (queue의 맨앞의 있는 node부터 탐색)\n",
    "        cur = q.popleft()\n",
    "        \n",
    "        if not visited[cur]:\n",
    "            ans.append(cur)\n",
    "        \n",
    "        visited[cur] = True\n",
    "\n",
    "        if cur not in adj.keys():\n",
    "            continue\n",
    "        \n",
    "        # Step 1 (인접한 node 탐색)\n",
    "        for elem in adj[cur]:\n",
    "            if not visited[elem]:\n",
    "                q.append(elem)"
   ]
  },
  {
   "cell_type": "code",
   "execution_count": null,
   "id": "13d502c1",
   "metadata": {},
   "outputs": [],
   "source": [
    "def bfs(num):\n",
    "    global adj, q, ans, visited\n",
    "\n",
    "    q.append(num)\n",
    "\n",
    "    while len(q) > 0:\n",
    "        cur = q.popleft()\n",
    "        \n",
    "        if not visited[cur]:\n",
    "            ans.append(cur)\n",
    "        \n",
    "        visited[cur] = True\n",
    "\n",
    "        if cur not in adj.keys():\n",
    "            continue\n",
    "\n",
    "        for elem in adj[cur]:\n",
    "            if not visited[elem]:\n",
    "                q.append(elem)"
   ]
  },
  {
   "cell_type": "markdown",
   "id": "ce81c4c6",
   "metadata": {},
   "source": [
    "---\n",
    "# DFS 전체 코드"
   ]
  },
  {
   "cell_type": "code",
   "execution_count": 18,
   "id": "a2ab5c57",
   "metadata": {},
   "outputs": [
    {
     "name": "stdout",
     "output_type": "stream",
     "text": [
      "====dfs====\n",
      "1-> 2-> 3-> 4-> 5-> 6-> 7-> 8-> 9-> "
     ]
    }
   ],
   "source": [
    "from collections import deque\n",
    "\n",
    "\n",
    "def adj_check(node1, node2):\n",
    "    global adj\n",
    "    \n",
    "    # 1.B\n",
    "    adj[node1].append(node2)\n",
    "    \n",
    "    return\n",
    "\n",
    "def dfs(cur_node):\n",
    "    global adj, visited\n",
    "\n",
    "    visited[cur_node] = True     \n",
    "    \n",
    "    ans.append(cur_node)        \n",
    "    \n",
    "    for elem in adj[cur_node]:\n",
    "        if not visited[elem]:\n",
    "            dfs(elem)            \n",
    "            \n",
    "    return\n",
    "    \n",
    "def ans_print():\n",
    "    global ans\n",
    "\n",
    "    while ans:\n",
    "        print(\"{}->\".format(ans.popleft()), end= \" \")\n",
    "        \n",
    "    return\n",
    "\n",
    "\n",
    "if __name__ == '__main__':\n",
    "    visited = [False for _ in range(11)]    # 2.A\n",
    "    adj = {}\n",
    "    ans = deque()\n",
    "    \n",
    "    for i in range(11):\n",
    "        adj[i+1] = []\n",
    "        \n",
    "    adj_check(1,2)\n",
    "    adj_check(1,6)\n",
    "    adj_check(1,7)\n",
    "    adj_check(1,9)\n",
    "    \n",
    "    adj_check(2, 3)\n",
    "    adj_check(2, 4)\n",
    "    \n",
    "    adj_check(6, 4)\n",
    "    adj_check(4, 5)\n",
    "    \n",
    "    adj_check(7, 8)\n",
    "    \n",
    "    print(\"====dfs====\")\n",
    "    dfs(1)\n",
    "    ans_print()\n"
   ]
  },
  {
   "cell_type": "markdown",
   "id": "940a1629",
   "metadata": {},
   "source": [
    "---\n",
    "# BFS 전체 코드"
   ]
  },
  {
   "cell_type": "code",
   "execution_count": 19,
   "id": "85f977c7",
   "metadata": {},
   "outputs": [
    {
     "name": "stdout",
     "output_type": "stream",
     "text": [
      "====bfs====\n",
      "1-> 2-> 6-> 7-> 9-> 3-> 4-> 8-> 5-> "
     ]
    }
   ],
   "source": [
    "from collections import deque\n",
    "\n",
    "\n",
    "def adj_check(node1, node2):\n",
    "    global adj\n",
    "    \n",
    "    # 1.B\n",
    "    adj[node1].append(node2)\n",
    "    \n",
    "    return\n",
    "\n",
    "def bfs(num):\n",
    "    global adj, q, ans, visited\n",
    "\n",
    "    q.append(num)\n",
    "\n",
    "    while len(q) > 0:\n",
    "        cur = q.popleft()\n",
    "        \n",
    "        if not visited[cur]:\n",
    "            ans.append(cur)\n",
    "        \n",
    "        visited[cur] = True\n",
    "\n",
    "        if cur not in adj.keys():\n",
    "            continue\n",
    "\n",
    "        for elem in adj[cur]:\n",
    "            if not visited[elem]:\n",
    "                q.append(elem)\n",
    "                \n",
    "    \n",
    "def ans_print():\n",
    "    global ans\n",
    "\n",
    "    while ans:\n",
    "        print(\"{}->\".format(ans.popleft()), end= \" \")\n",
    "        \n",
    "    return\n",
    "\n",
    "\n",
    "if __name__ == '__main__':\n",
    "    visited = [False for _ in range(11)]    # 2.A\n",
    "    adj = {}\n",
    "    q = deque()\n",
    "    ans = deque()\n",
    "    \n",
    "    for i in range(11):\n",
    "        adj[i+1] = []\n",
    "        \n",
    "    adj_check(1,2)\n",
    "    adj_check(1,6)\n",
    "    adj_check(1,7)\n",
    "    adj_check(1,9)\n",
    "    \n",
    "    adj_check(2, 3)\n",
    "    adj_check(2, 4)\n",
    "    \n",
    "    adj_check(6, 4)\n",
    "    adj_check(4, 5)\n",
    "    \n",
    "    adj_check(7, 8)\n",
    "\n",
    "    print(\"====bfs====\")\n",
    "    bfs(1)\n",
    "    ans_print()"
   ]
  },
  {
   "cell_type": "markdown",
   "id": "b3fee8b1",
   "metadata": {},
   "source": [
    "---"
   ]
  },
  {
   "cell_type": "markdown",
   "id": "bd7753af",
   "metadata": {},
   "source": [
    "## Dijkstra\n",
    "---\n",
    "### 0. 결과배열\n",
    "- dp, result, cost, time, dist = []\n",
    "- 출발지점부터 i번째 node를 방문하기 까지의 최단시간, 최소비용\n",
    "---\n",
    "- 초기화\n",
    "    - 초기의 결과는 무한대 (INF)로 설정\n",
    "    - 1. 결과가 무한대인 결과값을 선택하지 않도록\n",
    "    - 2. 어떤 지점까지 도달할 수 없는 경로를 INF로 표현"
   ]
  },
  {
   "cell_type": "code",
   "execution_count": 20,
   "id": "333cc922",
   "metadata": {},
   "outputs": [
    {
     "data": {
      "text/plain": [
       "{'home': 1000000000,\n",
       " '중앙대 후문': 1000000000,\n",
       " '예술의 전당': 1000000000,\n",
       " '청계천': 1000000000}"
      ]
     },
     "execution_count": 20,
     "metadata": {},
     "output_type": "execute_result"
    }
   ],
   "source": [
    "INF = int(1e9)\n",
    "time = {}  # node: time\n",
    "    \n",
    "spot = [\"home\", \"중앙대 후문\", \"예술의 전당\", \"청계천\"]\n",
    "    \n",
    "\n",
    "for elem in spot:\n",
    "    time[elem] = INF\n",
    "    \n",
    "time"
   ]
  },
  {
   "cell_type": "markdown",
   "id": "8a68af21",
   "metadata": {},
   "source": [
    "---\n",
    "### 1. 우선순위 큐 (Priority Queue)\n",
    "- queue에 넣은 data에게 우선순위를 부여하여 우선순위에 따라서 데이터를 처리\n",
    "- ex) vip customer \n",
    "---\n",
    "- heap 사용법\n",
    " - 1. heapq.heappush(location, data)\n",
    "     - location에 data를 추가\n",
    " \n",
    " - 2. heapq.heappop(loaction)\n",
    "     - location에서 자동적으로 제일 작은 값 삭제\n"
   ]
  },
  {
   "cell_type": "code",
   "execution_count": 22,
   "id": "5a643936",
   "metadata": {},
   "outputs": [
    {
     "name": "stdout",
     "output_type": "stream",
     "text": [
      "1\n",
      "3\n",
      "51\n",
      "79\n",
      "100\n"
     ]
    }
   ],
   "source": [
    "import heapq\n",
    "heap = []\n",
    "\n",
    "# heap = [1,100,3, 79, 51]\n",
    "heapq.heappush(heap, 1)\n",
    "heapq.heappush(heap, 100)\n",
    "heapq.heappush(heap, 3)\n",
    "heapq.heappush(heap, 79)\n",
    "heapq.heappush(heap, 51)\n",
    "\n",
    "for _ in range(5):\n",
    "    print(heapq.heappop(heap))"
   ]
  },
  {
   "cell_type": "markdown",
   "id": "d65ef841",
   "metadata": {},
   "source": [
    "---"
   ]
  },
  {
   "cell_type": "markdown",
   "id": "2d63eef6",
   "metadata": {},
   "source": [
    "### 2. 인접리스트 (adjacency list)\n",
    "- dictionary 구현\n",
    "    - key: node, value = list\n",
    "    - adj = {node1: [(weight, connected node)]}\n",
    "    - key = immuatable, value = mutable\n",
    "    \n",
    "- (weight, connected weight)\n",
    "    - 가중치 정보도 업데이트\n",
    "    - 우선순위 큐를 사용하여 weight가 적은 곳부터 탐색\n",
    "    - 최단거리, 최소비용을 구하는 것이 목적\n",
    "    \n",
    "- weight가 node의 앞쪽에 위치하는 이유\n",
    "    - pair인 data인 경우 앞쪽의 위치한 data 기준으로 정렬, 우선순위 부여"
   ]
  },
  {
   "cell_type": "code",
   "execution_count": 23,
   "id": "c4b5ad94",
   "metadata": {},
   "outputs": [],
   "source": [
    "# 인접여부 확인 함수\n",
    "def adj_check(node1, node2, weight):\n",
    "    global adj\n",
    "    \n",
    "    adj[node1].append((weight, node2))\n",
    "    return"
   ]
  },
  {
   "cell_type": "code",
   "execution_count": 24,
   "id": "8cb4ff6a",
   "metadata": {},
   "outputs": [
    {
     "data": {
      "text/plain": [
       "{'home': [(24, '중앙대 후문'), (45, '예술의 전당'), (44, '청계천')],\n",
       " '중앙대 후문': [(19, '예술의 전당'), (26, '청계천')],\n",
       " '예술의 전당': [(23, '중앙대 후문'), (28, '청계천')],\n",
       " '청계천': []}"
      ]
     },
     "execution_count": 24,
     "metadata": {},
     "output_type": "execute_result"
    }
   ],
   "source": [
    "adj = {}   # node: [weight, connected node]\n",
    "spot = [\"home\", \"중앙대 후문\", \"예술의 전당\", \"청계천\"]\n",
    "    \n",
    "# adj  초기화\n",
    "for elem in spot:\n",
    "    adj[elem] = []\n",
    "       \n",
    "adj_check(spot[0], spot[1], 24)\n",
    "adj_check(spot[0], spot[2], 45)\n",
    "adj_check(spot[0], spot[3], 44)\n",
    "    \n",
    "adj_check(spot[1], spot[2], 19)\n",
    "adj_check(spot[1], spot[3], 26)\n",
    "    \n",
    "adj_check(spot[2], spot[1], 23)\n",
    "adj_check(spot[2], spot[3], 28)\n",
    "\n",
    "adj"
   ]
  },
  {
   "cell_type": "markdown",
   "id": "ef4971bf",
   "metadata": {},
   "source": [
    "### 3. Search\n",
    "- A. visited 배열이 없음\n",
    "    - 한 정점 (node)를 방문하는 방법이 여러가지\n",
    "---\n",
    "- B. 시간계산방식\n",
    "    - A-->B\n",
    "    - 출발지점에서 Node B까지의 소요시간\n",
    "        - 출발지점에서 A까지의 소요시간 + A부터 B까지의 소요시간\n",
    "        \n",
    "    - (start ~ B) = (start ~ A) + (A ~ B)\n",
    "---\n",
    "- C. 최적화\n",
    "    - A-->B\n",
    "    - 만약 이미 출발지점에서 node B까지의 경로가 알려져있고, 그 경로의 소요시간이\n",
    "    - A에서 B를 도착하는데 걸리는 시간보다 적다면 A-->B는 탐색할 가치가 없음\n",
    "    \n",
    "    - 최적화 과정때문에 우선순위 큐를 사용하여 weight가 적은 경로부터 탐색\n",
    "---\n",
    "- D. 정보 update 방식\n",
    "    - A-->B\n",
    "    - 현재의 경로 = start -> A -> B\n",
    "        - (start ~ B) = (start ~ A) + (A ~ B)\n",
    "        \n",
    "        \n",
    "    - 현재 최소로 유지되고 있는 result[B]와 현재의 경로 (start ~ A ~ B)를 비교\n",
    "        - result[B]는 현재의 경로인 (start ~ A ~ B)가 아닌 다른경로의 결과값 (중요해요!!)\n",
    "        \n",
    "    - 만약 현재의 경로가 result[B]보다 작다면 새로운 정보 업데이트!"
   ]
  },
  {
   "cell_type": "code",
   "execution_count": null,
   "id": "81f59d25",
   "metadata": {},
   "outputs": [],
   "source": [
    "def dijkstra(start):\n",
    "    global time, heap, adj\n",
    "    \n",
    "    time[start] = 0\n",
    "    heapq.heappush(heap, (0, start))\n",
    "    \n",
    "    while heap:\n",
    "        cur_w, cur_node = heapq.heappop(heap)\n",
    "        \n",
    "        # 최적화\n",
    "        if time[cur_node] < cur_w:\n",
    "            continue\n",
    "        \n",
    "        # 현재 node와 인접한 모든 node 탐색\n",
    "        for edge in adj[cur_node]:\n",
    "            next_w, next_node = edge\n",
    "            # 시간계산 방식\n",
    "            # (start ~ next_node) = (start ~ cur_node) + (cur_node + next_node)\n",
    "            new_result = cur_w + next_w\n",
    "            \n",
    "            # 정보 update 방식\n",
    "            # 만약 현재의 경로가 result[B]보다 작다면 \n",
    "            if new_result < time[next_node]:\n",
    "                time[next_node] = new_result\n",
    "                heapq.heappush(heap, (new_result, next_node))\n"
   ]
  },
  {
   "cell_type": "code",
   "execution_count": null,
   "id": "68833baf",
   "metadata": {},
   "outputs": [],
   "source": [
    "def dijkstra(start):\n",
    "    global time, heap, adj\n",
    "    \n",
    "    time[start] = 0\n",
    "    heapq.heappush(heap, (0, start))\n",
    "    \n",
    "    while heap:\n",
    "        cur_w, cur_node = heapq.heappop(heap)\n",
    "        \n",
    "        if time[cur_node] < cur_w:\n",
    "            continue\n",
    "        \n",
    "        for edge in adj[cur_node]:\n",
    "            next_w, next_node = edge\n",
    "            new_result = cur_w + next_w\n",
    "            \n",
    "            if new_result < time[next_node]:\n",
    "                time[next_node] = new_result\n",
    "                heapq.heappush(heap, (new_result, next_node))"
   ]
  },
  {
   "cell_type": "markdown",
   "id": "ff83e7fb",
   "metadata": {},
   "source": [
    "---\n",
    "## 전체코드"
   ]
  },
  {
   "cell_type": "code",
   "execution_count": 31,
   "id": "3aa79c36",
   "metadata": {},
   "outputs": [
    {
     "name": "stdout",
     "output_type": "stream",
     "text": [
      "집 ~ 집: 0 minutes\n",
      "집 ~ 중앙대 후문: 24 minutes\n",
      "집 ~ 예술의 전당: 43 minutes\n",
      "집 ~ 청계천: 44 minutes\n"
     ]
    }
   ],
   "source": [
    "import heapq\n",
    "\n",
    "def adj_check(node1, node2, weight):\n",
    "    global adj\n",
    "    \n",
    "    adj[node1].append((weight, node2))\n",
    "    return\n",
    "\n",
    "def dijkstra(start):\n",
    "    global time, heap, adj\n",
    "    \n",
    "    time[start] = 0\n",
    "    heapq.heappush(heap, (0, start))\n",
    "    \n",
    "    while heap:\n",
    "        cur_w, cur_node = heapq.heappop(heap)\n",
    "        \n",
    "        if time[cur_node] < cur_w:\n",
    "            continue\n",
    "        \n",
    "        for edge in adj[cur_node]:\n",
    "            next_w, next_node = edge\n",
    "            # s~B = (s~A) + (A~B)\n",
    "            new_result = cur_w + next_w\n",
    "            \n",
    "            if new_result < time[next_node]:\n",
    "                time[next_node] = new_result\n",
    "                heapq.heappush(heap, (new_result, next_node))\n",
    "\n",
    "if __name__ == '__main__':\n",
    "    INF = int(1e9)\n",
    "    heap = []\n",
    "    adj = {}  \n",
    "    time = {}  \n",
    "    \n",
    "    spot = [\"집\", \"중앙대 후문\", \"예술의 전당\", \"청계천\"]\n",
    "    \n",
    "    # adj, time 초기화\n",
    "    for elem in spot:\n",
    "        adj[elem] = []\n",
    "        time[elem] = INF\n",
    "    \n",
    "    adj_check(spot[0], spot[1], 24)\n",
    "    adj_check(spot[0], spot[2], 45)\n",
    "    adj_check(spot[0], spot[3], 44)\n",
    "    \n",
    "    adj_check(spot[1], spot[2], 19)\n",
    "    adj_check(spot[1], spot[3], 26)\n",
    "    \n",
    "    adj_check(spot[2], spot[1], 23)\n",
    "    adj_check(spot[2], spot[3], 28)\n",
    "    \n",
    "    dijkstra(spot[0])\n",
    "    \n",
    "    for key, value in time.items():\n",
    "        print(\"집 ~ {}: {} minutes\".format(key, value))"
   ]
  }
 ],
 "metadata": {
  "kernelspec": {
   "display_name": "Python 3 (ipykernel)",
   "language": "python",
   "name": "python3"
  },
  "language_info": {
   "codemirror_mode": {
    "name": "ipython",
    "version": 3
   },
   "file_extension": ".py",
   "mimetype": "text/x-python",
   "name": "python",
   "nbconvert_exporter": "python",
   "pygments_lexer": "ipython3",
   "version": "3.9.12"
  }
 },
 "nbformat": 4,
 "nbformat_minor": 5
}
